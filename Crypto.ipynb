{
 "cells": [
  {
   "cell_type": "code",
   "execution_count": 18,
   "id": "b384630e",
   "metadata": {},
   "outputs": [
    {
     "name": "stdout",
     "output_type": "stream",
     "text": [
      "            id symbol      name  \\\n",
      "0      bitcoin    btc   Bitcoin   \n",
      "1     ethereum    eth  Ethereum   \n",
      "2       tether   usdt    Tether   \n",
      "3       solana    sol    Solana   \n",
      "4  binancecoin    bnb       BNB   \n",
      "\n",
      "                                               image  current_price  \\\n",
      "0  https://coin-images.coingecko.com/coins/images...      98760.000   \n",
      "1  https://coin-images.coingecko.com/coins/images...       3474.330   \n",
      "2  https://coin-images.coingecko.com/coins/images...          1.001   \n",
      "3  https://coin-images.coingecko.com/coins/images...        261.140   \n",
      "4  https://coin-images.coingecko.com/coins/images...        673.520   \n",
      "\n",
      "      market_cap  market_cap_rank  fully_diluted_valuation  total_volume  \\\n",
      "0  1953794292375                1            2073639601957   63806495600   \n",
      "1   418115400596                2             418115400596   38102379782   \n",
      "2   132276623700                3             132276623700  124133565298   \n",
      "3   123931814855                4             153725819918    7953524245   \n",
      "4    98255398959                5              98255398959    2966195824   \n",
      "\n",
      "    high_24h  ...  total_supply   max_supply       ath  ath_change_percentage  \\\n",
      "0  99645.000  ...  2.100000e+07   21000000.0  99645.00               -0.95695   \n",
      "1   3467.830  ...  1.204297e+08          NaN   4878.26              -29.08534   \n",
      "2      1.003  ...  1.321052e+11          NaN      1.32              -24.29970   \n",
      "3    262.960  ...  5.887649e+08          NaN    262.96               -0.94508   \n",
      "4    673.970  ...  1.458876e+08  200000000.0    717.48               -6.34009   \n",
      "\n",
      "                   ath_date        atl  atl_change_percentage  \\\n",
      "0  2024-11-22T19:35:49.770Z  67.810000           1.454438e+05   \n",
      "1  2021-11-10T14:24:19.604Z   0.432979           7.988771e+05   \n",
      "2  2018-07-24T00:00:00.000Z   0.572521           7.494329e+01   \n",
      "3  2024-11-23T05:05:52.870Z   0.500801           5.191090e+04   \n",
      "4  2024-06-06T14:10:59.816Z   0.039818           1.687558e+06   \n",
      "\n",
      "                   atl_date  \\\n",
      "0  2013-07-06T00:00:00.000Z   \n",
      "1  2015-10-20T00:00:00.000Z   \n",
      "2  2015-03-02T00:00:00.000Z   \n",
      "3  2020-05-11T19:35:23.449Z   \n",
      "4  2017-10-19T00:00:00.000Z   \n",
      "\n",
      "                                                 roi              last_updated  \n",
      "0                                               None  2024-11-23T14:30:07.592Z  \n",
      "1  {'times': 46.03774090987707, 'currency': 'btc'...  2024-11-23T14:30:21.193Z  \n",
      "2                                               None  2024-11-23T14:30:23.629Z  \n",
      "3                                               None  2024-11-23T14:30:22.604Z  \n",
      "4                                               None  2024-11-23T14:30:07.000Z  \n",
      "\n",
      "[5 rows x 26 columns]\n"
     ]
    }
   ],
   "source": [
    "#!pip install requests pandas\n",
    "import requests\n",
    "import pandas as pd\n",
    "\n",
    "def fetch_crypto_data():\n",
    "    url = 'https://api.coingecko.com/api/v3/coins/markets?vs_currency=usd&order=market_cap_desc&per_page=50&page=1&sparkline=false'\n",
    "\n",
    "    response = requests.get(url)\n",
    "    data = response.json()\n",
    "\n",
    "    # Create a pandas DataFrame\n",
    "    df = pd.DataFrame(data)\n",
    "\n",
    "    return df\n",
    "\n",
    "# Fetch data\n",
    "df = fetch_crypto_data()\n",
    "\n",
    "# Print the first 5 rows\n",
    "print(df.head())"
   ]
  },
  {
   "cell_type": "code",
   "execution_count": 19,
   "id": "9fa63ab7",
   "metadata": {},
   "outputs": [
    {
     "name": "stdout",
     "output_type": "stream",
     "text": [
      "                                     Name  Symbol  Current Price  \\\n",
      "0                                 Bitcoin     btc   98725.000000   \n",
      "1                                Ethereum     eth    3483.380000   \n",
      "2                                  Tether    usdt       1.001000   \n",
      "3                                  Solana     sol     261.240000   \n",
      "4                                     BNB     bnb     674.190000   \n",
      "5                                     XRP     xrp       1.550000   \n",
      "6                                Dogecoin    doge       0.463101   \n",
      "7                                 Cardano     ada       1.100000   \n",
      "8                                    USDC    usdc       0.999948   \n",
      "9                       Lido Staked Ether   steth    3495.120000   \n",
      "10                                   TRON     trx       0.222907   \n",
      "11                              Avalanche    avax      42.750000   \n",
      "12                              Shiba Inu    shib       0.000027   \n",
      "13                                Toncoin     ton       6.160000   \n",
      "14                          Wrapped stETH  wsteth    4118.710000   \n",
      "15                        Wrapped Bitcoin    wbtc   98481.000000   \n",
      "16                                Stellar     xlm       0.456271   \n",
      "17                               Polkadot     dot       8.200000   \n",
      "18                              Chainlink    link      17.560000   \n",
      "19                           Bitcoin Cash     bch     540.060000   \n",
      "20                                    Sui     sui       3.640000   \n",
      "21                                   WETH    weth    3467.930000   \n",
      "22                                   Pepe    pepe       0.000022   \n",
      "23                              LEO Token     leo       8.600000   \n",
      "24                          NEAR Protocol    near       6.410000   \n",
      "25                               Litecoin     ltc     103.010000   \n",
      "26                                  Aptos     apt      12.970000   \n",
      "27                                Uniswap     uni      10.840000   \n",
      "28                           Wrapped eETH   weeth    3659.120000   \n",
      "29                                 Hedera    hbar       0.150770   \n",
      "30                      Internet Computer     icp      11.540000   \n",
      "31                                 Cronos     cro       0.199215   \n",
      "32                                   USDS    usds       0.999971   \n",
      "33                       Ethereum Classic     etc      30.800000   \n",
      "34                         POL (ex-MATIC)     pol       0.580730   \n",
      "35                                 Render  render       8.010000   \n",
      "36                                  Kaspa     kas       0.161027   \n",
      "37                              Bittensor     tao     544.000000   \n",
      "38                                   Bonk    bonk       0.000051   \n",
      "39                            Ethena USDe    usde       1.002000   \n",
      "40  Artificial Superintelligence Alliance     fet       1.440000   \n",
      "41                               Arbitrum     arb       0.874597   \n",
      "42                                VeChain     vet       0.043874   \n",
      "43                          WhiteBIT Coin     wbt      24.660000   \n",
      "44                              dogwifhat     wif       3.530000   \n",
      "45                                    Dai     dai       1.000000   \n",
      "46                                 MANTRA      om       3.790000   \n",
      "47                             Cosmos Hub    atom       8.260000   \n",
      "48                               Filecoin     fil       5.290000   \n",
      "49                                 Stacks     stx       2.120000   \n",
      "\n",
      "    Price Change 24h  Price Change Percentage 24h     Market Cap  Total Volume  \n",
      "0        1259.280000                      1.29203  1953525506400   56347065795  \n",
      "1         194.410000                      5.91111   418744905553   39451265864  \n",
      "2           0.001792                      0.17931   132280435500  126537736030  \n",
      "3           6.690000                      2.62898   123925112932    8273551052  \n",
      "4          56.060000                      9.06973    98285568014    2968958224  \n",
      "5           0.142110                     10.07001    89138372061   17221850097  \n",
      "6           0.066797                     16.85498    67943504339   23642978413  \n",
      "7           0.211920                     23.82903    39594748791    8064240517  \n",
      "8           0.001308                      0.13094    38898150496    8327411333  \n",
      "9         195.130000                      5.91301    34104410179      96613971  \n",
      "10          0.025100                     12.68884    19230224935    1544710613  \n",
      "11          4.640000                     12.17197    17485597447    2117848550  \n",
      "12          0.000003                     11.66885    16150317990    3550068533  \n",
      "13          0.721299                     13.27286    15674407024     948814110  \n",
      "14        214.050000                      5.48183    14941195494      41143389  \n",
      "15        944.500000                      0.96835    14410727673     358263160  \n",
      "16          0.167135                     57.80520    13744937960    7947757759  \n",
      "17          2.110000                     34.76990    11797192476    2618780498  \n",
      "18          2.560000                     17.05874    10997270648    2030679878  \n",
      "19         64.530000                     13.57024    10703929108    1497365960  \n",
      "20          0.146179                      4.17875    10329436236    1906885382  \n",
      "21        176.590000                      5.36522    10024113270    1442831172  \n",
      "22          0.000002                      9.12449     9317306030    5882966877  \n",
      "23         -0.129956                     -1.48870     7949056638       3155080  \n",
      "24          0.833959                     14.96593     7802671636    1314181462  \n",
      "25         14.580000                     16.49267     7753507572    2317918143  \n",
      "26          1.180000                      9.99406     6903446141     819048645  \n",
      "27          1.490000                     15.97776     6510299283     964330381  \n",
      "28        197.600000                      5.70862     6435303077      26701017  \n",
      "29          0.021290                     16.44305     5773419541    1936461940  \n",
      "30          1.840000                     18.98808     5483833339     638102774  \n",
      "31          0.014094                      7.61314     5396686574     113186213  \n",
      "32          0.003653                      0.36667     5256426787      29184599  \n",
      "33          3.440000                     12.57194     4619057967     817338539  \n",
      "34          0.129435                     28.68072     4607208256     993159425  \n",
      "35          0.900482                     12.66962     4141789079     411330539  \n",
      "36          0.014713                     10.05613     4059722167     161996393  \n",
      "37         56.790000                     11.65681     3999095485     239017992  \n",
      "38          0.000001                      2.92078     3856950310    1327534212  \n",
      "39          0.000113                      0.01124     3811001097     157682031  \n",
      "40          0.211101                     17.18249     3752641503     815068562  \n",
      "41          0.081861                     10.32645     3576787043    1285089378  \n",
      "42          0.011731                     36.49556     3556932589     535668097  \n",
      "43          0.050744                      0.20620     3554050583      14902777  \n",
      "44          0.392049                     12.50403     3522391363    1236305735  \n",
      "45          0.002643                      0.26492     3448942410     132375536  \n",
      "46          0.141748                      3.89067     3426986636     282300497  \n",
      "47          1.310000                     18.78711     3214554454    1040478230  \n",
      "48          0.705334                     15.38293     3180503282     897727596  \n",
      "49          0.240134                     12.76121     3179638638     370306768  \n"
     ]
    }
   ],
   "source": [
    "#!pip install pycoingecko\n",
    "import pandas as pd\n",
    "from pycoingecko import CoinGeckoAPI\n",
    "import openpyxl as op\n",
    "\n",
    "# Initialize CoinGecko API client\n",
    "cg = CoinGeckoAPI()\n",
    "\n",
    "# Get the list of top 50 coins\n",
    "coins_list = cg.get_coins_markets(vs_currency='usd', per_page=50, page=1)\n",
    "\n",
    "# Extract relevant data into a list of dictionaries\n",
    "data = []\n",
    "for coin in coins_list:\n",
    "    data.append({\n",
    "        'Name': coin['name'],\n",
    "        'Symbol': coin['symbol'],\n",
    "        'Current Price': coin['current_price'],\n",
    "        'Price Change 24h': coin['price_change_24h'],\n",
    "        'Price Change Percentage 24h': coin['price_change_percentage_24h'],\n",
    "        'Market Cap': coin['market_cap'],\n",
    "        'Total Volume': coin['total_volume']\n",
    "    })\n",
    "\n",
    "# Create a pandas DataFrame from the data\n",
    "df = pd.DataFrame(data)\n",
    "\n",
    "# Display the DataFrame\n",
    "print(df)\n",
    "\n",
    "# Save the DataFrame to a CSV file\n",
    "df.to_csv('top_50_cryptocurrencies.csv', index=False)"
   ]
  },
  {
   "cell_type": "code",
   "execution_count": 20,
   "id": "fca8acff",
   "metadata": {},
   "outputs": [
    {
     "data": {
      "text/plain": [
       "(50, 7)"
      ]
     },
     "execution_count": 20,
     "metadata": {},
     "output_type": "execute_result"
    }
   ],
   "source": [
    "df.shape "
   ]
  },
  {
   "cell_type": "code",
   "execution_count": 21,
   "id": "8cd6611f",
   "metadata": {},
   "outputs": [
    {
     "data": {
      "text/plain": [
       "<bound method NDFrame.head of                                      Name  Symbol  Current Price  \\\n",
       "0                                 Bitcoin     btc   98725.000000   \n",
       "1                                Ethereum     eth    3483.380000   \n",
       "2                                  Tether    usdt       1.001000   \n",
       "3                                  Solana     sol     261.240000   \n",
       "4                                     BNB     bnb     674.190000   \n",
       "5                                     XRP     xrp       1.550000   \n",
       "6                                Dogecoin    doge       0.463101   \n",
       "7                                 Cardano     ada       1.100000   \n",
       "8                                    USDC    usdc       0.999948   \n",
       "9                       Lido Staked Ether   steth    3495.120000   \n",
       "10                                   TRON     trx       0.222907   \n",
       "11                              Avalanche    avax      42.750000   \n",
       "12                              Shiba Inu    shib       0.000027   \n",
       "13                                Toncoin     ton       6.160000   \n",
       "14                          Wrapped stETH  wsteth    4118.710000   \n",
       "15                        Wrapped Bitcoin    wbtc   98481.000000   \n",
       "16                                Stellar     xlm       0.456271   \n",
       "17                               Polkadot     dot       8.200000   \n",
       "18                              Chainlink    link      17.560000   \n",
       "19                           Bitcoin Cash     bch     540.060000   \n",
       "20                                    Sui     sui       3.640000   \n",
       "21                                   WETH    weth    3467.930000   \n",
       "22                                   Pepe    pepe       0.000022   \n",
       "23                              LEO Token     leo       8.600000   \n",
       "24                          NEAR Protocol    near       6.410000   \n",
       "25                               Litecoin     ltc     103.010000   \n",
       "26                                  Aptos     apt      12.970000   \n",
       "27                                Uniswap     uni      10.840000   \n",
       "28                           Wrapped eETH   weeth    3659.120000   \n",
       "29                                 Hedera    hbar       0.150770   \n",
       "30                      Internet Computer     icp      11.540000   \n",
       "31                                 Cronos     cro       0.199215   \n",
       "32                                   USDS    usds       0.999971   \n",
       "33                       Ethereum Classic     etc      30.800000   \n",
       "34                         POL (ex-MATIC)     pol       0.580730   \n",
       "35                                 Render  render       8.010000   \n",
       "36                                  Kaspa     kas       0.161027   \n",
       "37                              Bittensor     tao     544.000000   \n",
       "38                                   Bonk    bonk       0.000051   \n",
       "39                            Ethena USDe    usde       1.002000   \n",
       "40  Artificial Superintelligence Alliance     fet       1.440000   \n",
       "41                               Arbitrum     arb       0.874597   \n",
       "42                                VeChain     vet       0.043874   \n",
       "43                          WhiteBIT Coin     wbt      24.660000   \n",
       "44                              dogwifhat     wif       3.530000   \n",
       "45                                    Dai     dai       1.000000   \n",
       "46                                 MANTRA      om       3.790000   \n",
       "47                             Cosmos Hub    atom       8.260000   \n",
       "48                               Filecoin     fil       5.290000   \n",
       "49                                 Stacks     stx       2.120000   \n",
       "\n",
       "    Price Change 24h  Price Change Percentage 24h     Market Cap  Total Volume  \n",
       "0        1259.280000                      1.29203  1953525506400   56347065795  \n",
       "1         194.410000                      5.91111   418744905553   39451265864  \n",
       "2           0.001792                      0.17931   132280435500  126537736030  \n",
       "3           6.690000                      2.62898   123925112932    8273551052  \n",
       "4          56.060000                      9.06973    98285568014    2968958224  \n",
       "5           0.142110                     10.07001    89138372061   17221850097  \n",
       "6           0.066797                     16.85498    67943504339   23642978413  \n",
       "7           0.211920                     23.82903    39594748791    8064240517  \n",
       "8           0.001308                      0.13094    38898150496    8327411333  \n",
       "9         195.130000                      5.91301    34104410179      96613971  \n",
       "10          0.025100                     12.68884    19230224935    1544710613  \n",
       "11          4.640000                     12.17197    17485597447    2117848550  \n",
       "12          0.000003                     11.66885    16150317990    3550068533  \n",
       "13          0.721299                     13.27286    15674407024     948814110  \n",
       "14        214.050000                      5.48183    14941195494      41143389  \n",
       "15        944.500000                      0.96835    14410727673     358263160  \n",
       "16          0.167135                     57.80520    13744937960    7947757759  \n",
       "17          2.110000                     34.76990    11797192476    2618780498  \n",
       "18          2.560000                     17.05874    10997270648    2030679878  \n",
       "19         64.530000                     13.57024    10703929108    1497365960  \n",
       "20          0.146179                      4.17875    10329436236    1906885382  \n",
       "21        176.590000                      5.36522    10024113270    1442831172  \n",
       "22          0.000002                      9.12449     9317306030    5882966877  \n",
       "23         -0.129956                     -1.48870     7949056638       3155080  \n",
       "24          0.833959                     14.96593     7802671636    1314181462  \n",
       "25         14.580000                     16.49267     7753507572    2317918143  \n",
       "26          1.180000                      9.99406     6903446141     819048645  \n",
       "27          1.490000                     15.97776     6510299283     964330381  \n",
       "28        197.600000                      5.70862     6435303077      26701017  \n",
       "29          0.021290                     16.44305     5773419541    1936461940  \n",
       "30          1.840000                     18.98808     5483833339     638102774  \n",
       "31          0.014094                      7.61314     5396686574     113186213  \n",
       "32          0.003653                      0.36667     5256426787      29184599  \n",
       "33          3.440000                     12.57194     4619057967     817338539  \n",
       "34          0.129435                     28.68072     4607208256     993159425  \n",
       "35          0.900482                     12.66962     4141789079     411330539  \n",
       "36          0.014713                     10.05613     4059722167     161996393  \n",
       "37         56.790000                     11.65681     3999095485     239017992  \n",
       "38          0.000001                      2.92078     3856950310    1327534212  \n",
       "39          0.000113                      0.01124     3811001097     157682031  \n",
       "40          0.211101                     17.18249     3752641503     815068562  \n",
       "41          0.081861                     10.32645     3576787043    1285089378  \n",
       "42          0.011731                     36.49556     3556932589     535668097  \n",
       "43          0.050744                      0.20620     3554050583      14902777  \n",
       "44          0.392049                     12.50403     3522391363    1236305735  \n",
       "45          0.002643                      0.26492     3448942410     132375536  \n",
       "46          0.141748                      3.89067     3426986636     282300497  \n",
       "47          1.310000                     18.78711     3214554454    1040478230  \n",
       "48          0.705334                     15.38293     3180503282     897727596  \n",
       "49          0.240134                     12.76121     3179638638     370306768  >"
      ]
     },
     "execution_count": 21,
     "metadata": {},
     "output_type": "execute_result"
    }
   ],
   "source": [
    "df.head"
   ]
  },
  {
   "cell_type": "code",
   "execution_count": 22,
   "id": "cb9bb211",
   "metadata": {},
   "outputs": [
    {
     "data": {
      "text/plain": [
       "Index(['Name', 'Symbol', 'Current Price', 'Price Change 24h',\n",
       "       'Price Change Percentage 24h', 'Market Cap', 'Total Volume'],\n",
       "      dtype='object')"
      ]
     },
     "execution_count": 22,
     "metadata": {},
     "output_type": "execute_result"
    }
   ],
   "source": [
    "df.columns"
   ]
  },
  {
   "cell_type": "code",
   "execution_count": 23,
   "id": "c516b1bb",
   "metadata": {},
   "outputs": [
    {
     "data": {
      "text/plain": [
       "Name                            object\n",
       "Symbol                          object\n",
       "Current Price                  float64\n",
       "Price Change 24h               float64\n",
       "Price Change Percentage 24h    float64\n",
       "Market Cap                       int64\n",
       "Total Volume                     int64\n",
       "dtype: object"
      ]
     },
     "execution_count": 23,
     "metadata": {},
     "output_type": "execute_result"
    }
   ],
   "source": [
    "df.dtypes"
   ]
  },
  {
   "cell_type": "code",
   "execution_count": 24,
   "id": "dcc5822a",
   "metadata": {},
   "outputs": [
    {
     "name": "stdout",
     "output_type": "stream",
     "text": [
      "<class 'pandas.core.frame.DataFrame'>\n",
      "RangeIndex: 50 entries, 0 to 49\n",
      "Data columns (total 7 columns):\n",
      " #   Column                       Non-Null Count  Dtype  \n",
      "---  ------                       --------------  -----  \n",
      " 0   Name                         50 non-null     object \n",
      " 1   Symbol                       50 non-null     object \n",
      " 2   Current Price                50 non-null     float64\n",
      " 3   Price Change 24h             50 non-null     float64\n",
      " 4   Price Change Percentage 24h  50 non-null     float64\n",
      " 5   Market Cap                   50 non-null     int64  \n",
      " 6   Total Volume                 50 non-null     int64  \n",
      "dtypes: float64(3), int64(2), object(2)\n",
      "memory usage: 2.9+ KB\n"
     ]
    }
   ],
   "source": [
    "df.info()"
   ]
  },
  {
   "cell_type": "code",
   "execution_count": 25,
   "id": "813e8f94",
   "metadata": {},
   "outputs": [
    {
     "data": {
      "text/html": [
       "<style  type=\"text/css\" >\n",
       "#T_26c09_row0_col0,#T_26c09_row0_col3,#T_26c09_row0_col4,#T_26c09_row3_col0,#T_26c09_row3_col1,#T_26c09_row3_col2,#T_26c09_row3_col3,#T_26c09_row3_col4,#T_26c09_row4_col0,#T_26c09_row4_col1,#T_26c09_row4_col3,#T_26c09_row4_col4,#T_26c09_row5_col0,#T_26c09_row5_col1,#T_26c09_row6_col0,#T_26c09_row6_col1{\n",
       "            background-color:  #f7fbff;\n",
       "            color:  #000000;\n",
       "        }#T_26c09_row0_col1{\n",
       "            background-color:  #eff6fc;\n",
       "            color:  #000000;\n",
       "        }#T_26c09_row0_col2{\n",
       "            background-color:  #09529d;\n",
       "            color:  #f1f1f1;\n",
       "        }#T_26c09_row1_col0{\n",
       "            background-color:  #eef5fc;\n",
       "            color:  #000000;\n",
       "        }#T_26c09_row1_col1,#T_26c09_row1_col4{\n",
       "            background-color:  #edf4fc;\n",
       "            color:  #000000;\n",
       "        }#T_26c09_row1_col2{\n",
       "            background-color:  #ccdff1;\n",
       "            color:  #000000;\n",
       "        }#T_26c09_row1_col3{\n",
       "            background-color:  #f1f7fd;\n",
       "            color:  #000000;\n",
       "        }#T_26c09_row2_col0{\n",
       "            background-color:  #d0e2f2;\n",
       "            color:  #000000;\n",
       "        }#T_26c09_row2_col1{\n",
       "            background-color:  #d4e4f4;\n",
       "            color:  #000000;\n",
       "        }#T_26c09_row2_col2{\n",
       "            background-color:  #cfe1f2;\n",
       "            color:  #000000;\n",
       "        }#T_26c09_row2_col3{\n",
       "            background-color:  #dbe9f6;\n",
       "            color:  #000000;\n",
       "        }#T_26c09_row2_col4{\n",
       "            background-color:  #d8e7f5;\n",
       "            color:  #000000;\n",
       "        }#T_26c09_row4_col2{\n",
       "            background-color:  #e3eef9;\n",
       "            color:  #000000;\n",
       "        }#T_26c09_row5_col2{\n",
       "            background-color:  #cee0f2;\n",
       "            color:  #000000;\n",
       "        }#T_26c09_row5_col3{\n",
       "            background-color:  #f6faff;\n",
       "            color:  #000000;\n",
       "        }#T_26c09_row5_col4,#T_26c09_row6_col3{\n",
       "            background-color:  #f5fafe;\n",
       "            color:  #000000;\n",
       "        }#T_26c09_row6_col2{\n",
       "            background-color:  #b9d6ea;\n",
       "            color:  #000000;\n",
       "        }#T_26c09_row6_col4{\n",
       "            background-color:  #f3f8fe;\n",
       "            color:  #000000;\n",
       "        }#T_26c09_row7_col0,#T_26c09_row7_col1,#T_26c09_row7_col2,#T_26c09_row7_col3,#T_26c09_row7_col4{\n",
       "            background-color:  #08306b;\n",
       "            color:  #f1f1f1;\n",
       "        }</style><table id=\"T_26c09_\" ><thead>    <tr>        <th class=\"blank level0\" ></th>        <th class=\"col_heading level0 col0\" >Current Price</th>        <th class=\"col_heading level0 col1\" >Price Change 24h</th>        <th class=\"col_heading level0 col2\" >Price Change Percentage 24h</th>        <th class=\"col_heading level0 col3\" >Market Cap</th>        <th class=\"col_heading level0 col4\" >Total Volume</th>    </tr></thead><tbody>\n",
       "                <tr>\n",
       "                        <th id=\"T_26c09_level0_row0\" class=\"row_heading level0 row0\" >count</th>\n",
       "                        <td id=\"T_26c09_row0_col0\" class=\"data row0 col0\" >50.000000</td>\n",
       "                        <td id=\"T_26c09_row0_col1\" class=\"data row0 col1\" >50.000000</td>\n",
       "                        <td id=\"T_26c09_row0_col2\" class=\"data row0 col2\" >50.000000</td>\n",
       "                        <td id=\"T_26c09_row0_col3\" class=\"data row0 col3\" >50.000000</td>\n",
       "                        <td id=\"T_26c09_row0_col4\" class=\"data row0 col4\" >50.000000</td>\n",
       "            </tr>\n",
       "            <tr>\n",
       "                        <th id=\"T_26c09_level0_row1\" class=\"row_heading level0 row1\" >mean</th>\n",
       "                        <td id=\"T_26c09_row1_col0\" class=\"data row1 col0\" >4355.602710</td>\n",
       "                        <td id=\"T_26c09_row1_col1\" class=\"data row1 col1\" >68.077775</td>\n",
       "                        <td id=\"T_26c09_row1_col2\" class=\"data row1 col2\" >11.708689</td>\n",
       "                        <td id=\"T_26c09_row1_col3\" class=\"data row1 col3\" >66000405480.120003</td>\n",
       "                        <td id=\"T_26c09_row1_col4\" class=\"data row1 col4\" >6834006794.760000</td>\n",
       "            </tr>\n",
       "            <tr>\n",
       "                        <th id=\"T_26c09_level0_row2\" class=\"row_heading level0 row2\" >std</th>\n",
       "                        <td id=\"T_26c09_row2_col0\" class=\"data row2 col0\" >19464.475253</td>\n",
       "                        <td id=\"T_26c09_row2_col1\" class=\"data row2 col1\" >223.556626</td>\n",
       "                        <td id=\"T_26c09_row2_col2\" class=\"data row2 col2\" >10.772678</td>\n",
       "                        <td id=\"T_26c09_row2_col3\" class=\"data row2 col3\" >279805863755.534119</td>\n",
       "                        <td id=\"T_26c09_row2_col4\" class=\"data row2 col4\" >20017996736.009537</td>\n",
       "            </tr>\n",
       "            <tr>\n",
       "                        <th id=\"T_26c09_level0_row3\" class=\"row_heading level0 row3\" >min</th>\n",
       "                        <td id=\"T_26c09_row3_col0\" class=\"data row3 col0\" >0.000022</td>\n",
       "                        <td id=\"T_26c09_row3_col1\" class=\"data row3 col1\" >-0.129956</td>\n",
       "                        <td id=\"T_26c09_row3_col2\" class=\"data row3 col2\" >-1.488700</td>\n",
       "                        <td id=\"T_26c09_row3_col3\" class=\"data row3 col3\" >3179638638.000000</td>\n",
       "                        <td id=\"T_26c09_row3_col4\" class=\"data row3 col4\" >3155080.000000</td>\n",
       "            </tr>\n",
       "            <tr>\n",
       "                        <th id=\"T_26c09_level0_row4\" class=\"row_heading level0 row4\" >25%</th>\n",
       "                        <td id=\"T_26c09_row4_col0\" class=\"data row4 col0\" >0.999954</td>\n",
       "                        <td id=\"T_26c09_row4_col1\" class=\"data row4 col1\" >0.022243</td>\n",
       "                        <td id=\"T_26c09_row4_col2\" class=\"data row4 col2\" >4.475367</td>\n",
       "                        <td id=\"T_26c09_row4_col3\" class=\"data row4 col3\" >4014252155.500000</td>\n",
       "                        <td id=\"T_26c09_row4_col4\" class=\"data row4 col4\" >361274062.000000</td>\n",
       "            </tr>\n",
       "            <tr>\n",
       "                        <th id=\"T_26c09_level0_row5\" class=\"row_heading level0 row5\" >50%</th>\n",
       "                        <td id=\"T_26c09_row5_col0\" class=\"data row5 col0\" >5.725000</td>\n",
       "                        <td id=\"T_26c09_row5_col1\" class=\"data row5 col1\" >0.316091</td>\n",
       "                        <td id=\"T_26c09_row5_col2\" class=\"data row5 col2\" >10.991630</td>\n",
       "                        <td id=\"T_26c09_row5_col3\" class=\"data row5 col3\" >7778089604.000000</td>\n",
       "                        <td id=\"T_26c09_row5_col4\" class=\"data row5 col4\" >1138391982.500000</td>\n",
       "            </tr>\n",
       "            <tr>\n",
       "                        <th id=\"T_26c09_level0_row6\" class=\"row_heading level0 row6\" >75%</th>\n",
       "                        <td id=\"T_26c09_row6_col0\" class=\"data row6 col0\" >39.762500</td>\n",
       "                        <td id=\"T_26c09_row6_col1\" class=\"data row6 col1\" >4.340000</td>\n",
       "                        <td id=\"T_26c09_row6_col2\" class=\"data row6 col2\" >15.829052</td>\n",
       "                        <td id=\"T_26c09_row6_col3\" class=\"data row6 col3\" >16031340248.500000</td>\n",
       "                        <td id=\"T_26c09_row6_col4\" class=\"data row6 col4\" >2543564909.250000</td>\n",
       "            </tr>\n",
       "            <tr>\n",
       "                        <th id=\"T_26c09_level0_row7\" class=\"row_heading level0 row7\" >max</th>\n",
       "                        <td id=\"T_26c09_row7_col0\" class=\"data row7 col0\" >98725.000000</td>\n",
       "                        <td id=\"T_26c09_row7_col1\" class=\"data row7 col1\" >1259.280000</td>\n",
       "                        <td id=\"T_26c09_row7_col2\" class=\"data row7 col2\" >57.805200</td>\n",
       "                        <td id=\"T_26c09_row7_col3\" class=\"data row7 col3\" >1953525506400.000000</td>\n",
       "                        <td id=\"T_26c09_row7_col4\" class=\"data row7 col4\" >126537736030.000000</td>\n",
       "            </tr>\n",
       "    </tbody></table>"
      ],
      "text/plain": [
       "<pandas.io.formats.style.Styler at 0x200618c8f40>"
      ]
     },
     "execution_count": 25,
     "metadata": {},
     "output_type": "execute_result"
    }
   ],
   "source": [
    "df.describe().style.background_gradient(cmap=\"Blues\")"
   ]
  },
  {
   "cell_type": "code",
   "execution_count": 26,
   "id": "2d2ff918",
   "metadata": {},
   "outputs": [
    {
     "name": "stdout",
     "output_type": "stream",
     "text": [
      "Fortunately, there aren't missing values in the dataset.\n"
     ]
    }
   ],
   "source": [
    "if df.isnull().values.any():\n",
    "    print(\"Unfortunately, there are missing values in the dataset\\n\") \n",
    "else:\n",
    "    print(\"Fortunately, there aren't missing values in the dataset.\")"
   ]
  },
  {
   "cell_type": "code",
   "execution_count": 27,
   "id": "3280454f",
   "metadata": {},
   "outputs": [
    {
     "name": "stdout",
     "output_type": "stream",
     "text": [
      "Outliers detected in the dataset. Removing them...\n",
      "Outliers removed. Data shape: (46, 7)\n"
     ]
    }
   ],
   "source": [
    "# Z-Score Normalization \n",
    "# Calculate Z-scores for each feature\n",
    "\n",
    "Z_Scores = (df - df.mean()) / df.std()\n",
    "Threshold = 3    # Is a commonly used standard\n",
    "Outliers = (Z_Scores > Threshold) | (Z_Scores < -Threshold)\n",
    "\n",
    "# Check if there are any outliers\n",
    "if Outliers.any().any():\n",
    "    print(\"Outliers detected in the dataset. Removing them...\")\n",
    "    \n",
    "    # Remove Outliers\n",
    "    Data = df[~Outliers.any(axis=1)]\n",
    "    Data.reset_index(drop=True, inplace=True)\n",
    "    \n",
    "    print(\"Outliers removed. Data shape:\", Data.shape)\n",
    "else:\n",
    "    print(\"No outliers detected in the dataset.\")"
   ]
  },
  {
   "cell_type": "code",
   "execution_count": 28,
   "id": "0a7723b8",
   "metadata": {},
   "outputs": [
    {
     "data": {
      "image/png": "[encoded data removed]",
      "text/plain": [
       "<Figure size 360x432 with 1 Axes>"
      ]
     },
     "metadata": {
      "needs_background": "light"
     },
     "output_type": "display_data"
    }
   ],
   "source": [
    "# Visualize the top 10 cryptocurrencies by market cap\n",
    "import matplotlib.pyplot as plt\n",
    "top_5 = Data.nlargest(5, 'Market Cap')\n",
    "plt.figure(figsize=(5, 6))\n",
    "plt.bar(top_5['Name'], top_5['Market Cap'], color='skyblue')\n",
    "plt.xlabel('Cryptocurrency')\n",
    "plt.ylabel('Market Cap (USD)')\n",
    "plt.title('Top 10 Cryptocurrencies by Market Cap')\n",
    "plt.xticks(rotation=45)\n",
    "plt.show()"
   ]
  },
  {
   "cell_type": "code",
   "execution_count": 29,
   "id": "5cecc8b2",
   "metadata": {},
   "outputs": [
    {
     "data": {
      "image/png": "[encoded data removed]",
      "text/plain": [
       "<Figure size 720x720 with 2 Axes>"
      ]
     },
     "metadata": {
      "needs_background": "light"
     },
     "output_type": "display_data"
    }
   ],
   "source": [
    "import seaborn as sns\n",
    "plt.figure(figsize=(10, 10))\n",
    "sns.heatmap(Data.corr(), annot=True, linewidths=0.9, fmt=\".2f\", cmap=\"coolwarm\")\n",
    "plt.show()"
   ]
  },
  {
   "cell_type": "code",
   "execution_count": 30,
   "id": "3e3e5229",
   "metadata": {},
   "outputs": [
    {
     "name": "stdout",
     "output_type": "stream",
     "text": [
      "Average Price of Top 50 Cryptocurrencies: 447.23213566304344\n"
     ]
    }
   ],
   "source": [
    "# Calculate the average price\n",
    "average_price = Data['Current Price'].mean()\n",
    "\n",
    "print(\"Average Price of Top 50 Cryptocurrencies:\", average_price)"
   ]
  },
  {
   "cell_type": "code",
   "execution_count": 31,
   "id": "9e368cb8",
   "metadata": {},
   "outputs": [
    {
     "name": "stdout",
     "output_type": "stream",
     "text": [
      "Highest 24h Gainer:\n",
      "Name                              VeChain\n",
      "Symbol                                vet\n",
      "Current Price                    0.043874\n",
      "Price Change 24h                 0.011731\n",
      "Price Change Percentage 24h      36.49556\n",
      "Market Cap                     3556932589\n",
      "Total Volume                    535668097\n",
      "Name: 38, dtype: object\n",
      "\n",
      "Highest 24h Loser:\n",
      "Name                            LEO Token\n",
      "Symbol                                leo\n",
      "Current Price                         8.6\n",
      "Price Change 24h                -0.129956\n",
      "Price Change Percentage 24h       -1.4887\n",
      "Market Cap                     7949056638\n",
      "Total Volume                      3155080\n",
      "Name: 19, dtype: object\n"
     ]
    }
   ],
   "source": [
    "# Find the cryptocurrency with the highest 24-hour price increase\n",
    "highest_gainer = Data.loc[Data['Price Change Percentage 24h'].idxmax()]\n",
    "print(\"Highest 24h Gainer:\")\n",
    "print(highest_gainer)\n",
    "\n",
    "# Find the cryptocurrency with the highest 24-hour price decrease\n",
    "highest_loser = Data.loc[Data['Price Change Percentage 24h'].idxmin()]\n",
    "print(\"\\nHighest 24h Loser:\")\n",
    "print(highest_loser)"
   ]
  },
  {
   "cell_type": "code",
   "execution_count": 32,
   "id": "6426a92a",
   "metadata": {},
   "outputs": [],
   "source": [
    "def fetch_crypto_data():\n",
    "    cg = CoinGeckoAPI()\n",
    "    coins_list = cg.get_coins_markets(vs_currency='usd', per_page=50, page=1)\n",
    "\n",
    "    data = []\n",
    "    for coin in coins_list:\n",
    "        data.append({\n",
    "            'Name': coin['name'],\n",
    "            'Symbol': coin['symbol'],\n",
    "            'Current Price': coin['current_price'],\n",
    "            'Price Change 24h': coin['price_change_24h'],\n",
    "            'Price Change Percentage 24h': coin['price_change_percentage_24h'],\n",
    "            'Market Cap': coin['market_cap'],\n",
    "            'Total Volume': coin['total_volume']\n",
    "        })\n",
    "\n",
    "    df = pd.DataFrame(data)\n",
    "    return df"
   ]
  },
  {
   "cell_type": "code",
   "execution_count": 33,
   "id": "a3b3df9c",
   "metadata": {},
   "outputs": [],
   "source": [
    "workbook = op.Workbook()\n",
    "sheet = workbook.active\n",
    "\n",
    "# Write the header row\n",
    "sheet.append(['Name', 'Symbol', 'Current Price', 'Price Change 24h', 'Price Change Percentage 24h', 'Market Cap', 'Total Volume'])\n",
    "\n",
    "# Save the Excel file\n",
    "workbook.save('crypto_data.xlsx')\n",
    "\n",
    "import time\n",
    "def export_to_excel(df):\n",
    "    df.to_excel('crypto_data.xlsx', index=False)\n",
    "    \n",
    "    df = fetch_crypto_data()\n",
    "export_to_excel(df)"
   ]
  },
  {
   "cell_type": "code",
   "execution_count": 34,
   "id": "73f4d7a5",
   "metadata": {},
   "outputs": [],
   "source": [
    "import schedule\n",
    "def schedule_update():\n",
    "    schedule.every().second.do(lambda: update_excel(fetch_crypto_data()))\n",
    "    while True:\n",
    "        schedule.run_pending()\n",
    "        time.sleep(1)\n",
    "        \n",
    "    schedule_update(df)"
   ]
  }
 ],
 "metadata": {
  "kernelspec": {
   "display_name": "Python 3",
   "language": "python",
   "name": "python3"
  },
  "language_info": {
   "codemirror_mode": {
    "name": "ipython",
    "version": 3
   },
   "file_extension": ".py",
   "mimetype": "text/x-python",
   "name": "python",
   "nbconvert_exporter": "python",
   "pygments_lexer": "ipython3",
   "version": "3.8.8"
  }
 },
 "nbformat": 4,
 "nbformat_minor": 5
}
